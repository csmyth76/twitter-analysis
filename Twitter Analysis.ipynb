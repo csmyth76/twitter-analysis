{
 "cells": [
  {
   "cell_type": "code",
   "execution_count": 1,
   "metadata": {
    "collapsed": true
   },
   "outputs": [],
   "source": [
    "import pandas as pd\n",
    "import numpy as np\n",
    "from operator import itemgetter\n",
    "from nltk.corpus import stopwords\n",
    "import re\n",
    "import string\n",
    "import pprint\n",
    "import operator \n",
    "import json\n",
    "from collections import Counter\n",
    "from nltk.corpus import stopwords\n",
    "from nltk import ngrams \n",
    "import string\n",
    "from datetime import date\n",
    "import numpy\n",
    "from matplotlib import pyplot"
   ]
  },
  {
   "cell_type": "code",
   "execution_count": 2,
   "metadata": {
    "collapsed": true
   },
   "outputs": [],
   "source": [
    "df_raw  = pd.read_csv('twitter-post.fb20830f.drain.compact.csv')"
   ]
  },
  {
   "cell_type": "markdown",
   "metadata": {},
   "source": [
    "# Data First Look"
   ]
  },
  {
   "cell_type": "code",
   "execution_count": 3,
   "metadata": {},
   "outputs": [
    {
     "data": {
      "text/plain": [
       "(798, 44)"
      ]
     },
     "execution_count": 3,
     "metadata": {},
     "output_type": "execute_result"
    }
   ],
   "source": [
    "df_raw.shape"
   ]
  },
  {
   "cell_type": "code",
   "execution_count": 4,
   "metadata": {},
   "outputs": [
    {
     "name": "stdout",
     "output_type": "stream",
     "text": [
      "<class 'pandas.core.frame.DataFrame'>\n",
      "RangeIndex: 798 entries, 0 to 797\n",
      "Data columns (total 44 columns):\n",
      "id                                798 non-null int64\n",
      "url                               798 non-null object\n",
      "channel                           798 non-null object\n",
      "author.id                         798 non-null int64\n",
      "author.alias                      798 non-null object\n",
      "author.name                       798 non-null object\n",
      "author.url                        798 non-null object\n",
      "author.picture.type               798 non-null object\n",
      "author.picture.url                798 non-null object\n",
      "language                          798 non-null object\n",
      "origin                            798 non-null object\n",
      "inReplyTo.id                      18 non-null float64\n",
      "inReplyTo.url                     18 non-null object\n",
      "inReplyTo.author.id               18 non-null float64\n",
      "inReplyTo.author.alias            18 non-null object\n",
      "inReplyTo.author.url              18 non-null object\n",
      "inReplyTo.channel                 18 non-null object\n",
      "syndicates.id                     628 non-null float64\n",
      "syndicates.url                    628 non-null object\n",
      "syndicates.author.id              628 non-null float64\n",
      "syndicates.author.alias           628 non-null object\n",
      "syndicates.author.url             628 non-null object\n",
      "syndicates.channel                628 non-null object\n",
      "createdAt                         798 non-null object\n",
      "discoveredAt                      798 non-null object\n",
      "body                              798 non-null object\n",
      "location.id                       41 non-null object\n",
      "location.name                     41 non-null object\n",
      "location.coordinates.latitude     1 non-null float64\n",
      "location.coordinates.longitude    1 non-null float64\n",
      "location.country                  41 non-null object\n",
      "location.province                 1 non-null object\n",
      "likes                             798 non-null int64\n",
      "popularity                        798 non-null int64\n",
      "tags.0.value                      218 non-null object\n",
      "links.0.url                       167 non-null object\n",
      "links.0.text                      167 non-null object\n",
      "mediaMentions.0.id                35 non-null float64\n",
      "mediaMentions.0.type              35 non-null object\n",
      "mediaMentions.0.url               35 non-null object\n",
      "accountMentions.0.id              716 non-null float64\n",
      "accountMentions.0.alias           716 non-null object\n",
      "accountMentions.0.name            716 non-null object\n",
      "accountMentions.0.url             716 non-null object\n",
      "dtypes: float64(8), int64(4), object(32)\n",
      "memory usage: 274.4+ KB\n"
     ]
    }
   ],
   "source": [
    "df_raw.info()"
   ]
  },
  {
   "cell_type": "code",
   "execution_count": 5,
   "metadata": {},
   "outputs": [
    {
     "data": {
      "text/html": [
       "<div>\n",
       "<style scoped>\n",
       "    .dataframe tbody tr th:only-of-type {\n",
       "        vertical-align: middle;\n",
       "    }\n",
       "\n",
       "    .dataframe tbody tr th {\n",
       "        vertical-align: top;\n",
       "    }\n",
       "\n",
       "    .dataframe thead th {\n",
       "        text-align: right;\n",
       "    }\n",
       "</style>\n",
       "<table border=\"1\" class=\"dataframe\">\n",
       "  <thead>\n",
       "    <tr style=\"text-align: right;\">\n",
       "      <th></th>\n",
       "      <th>id</th>\n",
       "      <th>url</th>\n",
       "      <th>channel</th>\n",
       "      <th>author.id</th>\n",
       "      <th>author.alias</th>\n",
       "      <th>author.name</th>\n",
       "      <th>author.url</th>\n",
       "      <th>author.picture.type</th>\n",
       "      <th>author.picture.url</th>\n",
       "      <th>language</th>\n",
       "      <th>...</th>\n",
       "      <th>tags.0.value</th>\n",
       "      <th>links.0.url</th>\n",
       "      <th>links.0.text</th>\n",
       "      <th>mediaMentions.0.id</th>\n",
       "      <th>mediaMentions.0.type</th>\n",
       "      <th>mediaMentions.0.url</th>\n",
       "      <th>accountMentions.0.id</th>\n",
       "      <th>accountMentions.0.alias</th>\n",
       "      <th>accountMentions.0.name</th>\n",
       "      <th>accountMentions.0.url</th>\n",
       "    </tr>\n",
       "  </thead>\n",
       "  <tbody>\n",
       "    <tr>\n",
       "      <th>0</th>\n",
       "      <td>930160944533135360</td>\n",
       "      <td>http://twitter.com/bajohnsonrn/status/93016094...</td>\n",
       "      <td>twitter</td>\n",
       "      <td>898212382052421632</td>\n",
       "      <td>bajohnsonrn</td>\n",
       "      <td>Brittany Johnson</td>\n",
       "      <td>http://twitter.com/bajohnsonrn</td>\n",
       "      <td>image</td>\n",
       "      <td>http://pbs.twimg.com/profile_images/9029013236...</td>\n",
       "      <td>en</td>\n",
       "      <td>...</td>\n",
       "      <td>NaN</td>\n",
       "      <td>https://t.co/NZoNRlnjdz</td>\n",
       "      <td>bit.ly/2y6TfRY</td>\n",
       "      <td>NaN</td>\n",
       "      <td>NaN</td>\n",
       "      <td>NaN</td>\n",
       "      <td>1.406255e+07</td>\n",
       "      <td>MDAndersonNews</td>\n",
       "      <td>MD Anderson Cancer Center</td>\n",
       "      <td>http://twitter.com/MDAndersonNews</td>\n",
       "    </tr>\n",
       "    <tr>\n",
       "      <th>1</th>\n",
       "      <td>980419271401590788</td>\n",
       "      <td>http://twitter.com/marshyswife/status/98041927...</td>\n",
       "      <td>twitter</td>\n",
       "      <td>276592869</td>\n",
       "      <td>marshyswife</td>\n",
       "      <td>Pauline Marsh</td>\n",
       "      <td>http://twitter.com/marshyswife</td>\n",
       "      <td>image</td>\n",
       "      <td>http://pbs.twimg.com/profile_images/8039612011...</td>\n",
       "      <td>en</td>\n",
       "      <td>...</td>\n",
       "      <td>london</td>\n",
       "      <td>NaN</td>\n",
       "      <td>NaN</td>\n",
       "      <td>NaN</td>\n",
       "      <td>NaN</td>\n",
       "      <td>NaN</td>\n",
       "      <td>1.286881e+09</td>\n",
       "      <td>RayHoldenUrban</td>\n",
       "      <td>RayHolden</td>\n",
       "      <td>http://twitter.com/RayHoldenUrban</td>\n",
       "    </tr>\n",
       "    <tr>\n",
       "      <th>2</th>\n",
       "      <td>948962051891789826</td>\n",
       "      <td>http://twitter.com/louisianagill/status/948962...</td>\n",
       "      <td>twitter</td>\n",
       "      <td>23515704</td>\n",
       "      <td>louisianagill</td>\n",
       "      <td>Gillian Parrish</td>\n",
       "      <td>http://twitter.com/louisianagill</td>\n",
       "      <td>image</td>\n",
       "      <td>http://pbs.twimg.com/profile_images/9483805470...</td>\n",
       "      <td>en</td>\n",
       "      <td>...</td>\n",
       "      <td>chordoma</td>\n",
       "      <td>https://t.co/iUuKMLybYV</td>\n",
       "      <td>bit.ly/2E6KFWK</td>\n",
       "      <td>NaN</td>\n",
       "      <td>NaN</td>\n",
       "      <td>NaN</td>\n",
       "      <td>4.478353e+07</td>\n",
       "      <td>ChordomaFDN</td>\n",
       "      <td>Chordoma Foundation</td>\n",
       "      <td>http://twitter.com/ChordomaFDN</td>\n",
       "    </tr>\n",
       "    <tr>\n",
       "      <th>3</th>\n",
       "      <td>961246362800095232</td>\n",
       "      <td>http://twitter.com/DrNTheodore/status/96124636...</td>\n",
       "      <td>twitter</td>\n",
       "      <td>900737435654664193</td>\n",
       "      <td>DrNTheodore</td>\n",
       "      <td>Nicholas Theodore,MD</td>\n",
       "      <td>http://twitter.com/DrNTheodore</td>\n",
       "      <td>image</td>\n",
       "      <td>http://pbs.twimg.com/profile_images/9015211584...</td>\n",
       "      <td>en</td>\n",
       "      <td>...</td>\n",
       "      <td>NaN</td>\n",
       "      <td>NaN</td>\n",
       "      <td>NaN</td>\n",
       "      <td>NaN</td>\n",
       "      <td>NaN</td>\n",
       "      <td>NaN</td>\n",
       "      <td>8.976179e+17</td>\n",
       "      <td>maciejlesniakmd</td>\n",
       "      <td>Maciej Lesniak, MD</td>\n",
       "      <td>http://twitter.com/maciejlesniakmd</td>\n",
       "    </tr>\n",
       "    <tr>\n",
       "      <th>4</th>\n",
       "      <td>936909701790306305</td>\n",
       "      <td>http://twitter.com/bhas_dr/status/936909701790...</td>\n",
       "      <td>twitter</td>\n",
       "      <td>4327691963</td>\n",
       "      <td>bhas_dr</td>\n",
       "      <td>DrGeethanjaliBhas,MD MBA</td>\n",
       "      <td>http://twitter.com/bhas_dr</td>\n",
       "      <td>image</td>\n",
       "      <td>http://pbs.twimg.com/profile_images/1059420706...</td>\n",
       "      <td>en</td>\n",
       "      <td>...</td>\n",
       "      <td>NaN</td>\n",
       "      <td>NaN</td>\n",
       "      <td>NaN</td>\n",
       "      <td>NaN</td>\n",
       "      <td>NaN</td>\n",
       "      <td>NaN</td>\n",
       "      <td>4.557773e+07</td>\n",
       "      <td>JMGardnerMD</td>\n",
       "      <td>Jerad Gardner, MD</td>\n",
       "      <td>http://twitter.com/JMGardnerMD</td>\n",
       "    </tr>\n",
       "  </tbody>\n",
       "</table>\n",
       "<p>5 rows × 44 columns</p>\n",
       "</div>"
      ],
      "text/plain": [
       "                   id                                                url  \\\n",
       "0  930160944533135360  http://twitter.com/bajohnsonrn/status/93016094...   \n",
       "1  980419271401590788  http://twitter.com/marshyswife/status/98041927...   \n",
       "2  948962051891789826  http://twitter.com/louisianagill/status/948962...   \n",
       "3  961246362800095232  http://twitter.com/DrNTheodore/status/96124636...   \n",
       "4  936909701790306305  http://twitter.com/bhas_dr/status/936909701790...   \n",
       "\n",
       "   channel           author.id   author.alias               author.name  \\\n",
       "0  twitter  898212382052421632    bajohnsonrn          Brittany Johnson   \n",
       "1  twitter           276592869    marshyswife             Pauline Marsh   \n",
       "2  twitter            23515704  louisianagill           Gillian Parrish   \n",
       "3  twitter  900737435654664193    DrNTheodore      Nicholas Theodore,MD   \n",
       "4  twitter          4327691963        bhas_dr  DrGeethanjaliBhas,MD MBA   \n",
       "\n",
       "                         author.url author.picture.type  \\\n",
       "0    http://twitter.com/bajohnsonrn               image   \n",
       "1    http://twitter.com/marshyswife               image   \n",
       "2  http://twitter.com/louisianagill               image   \n",
       "3    http://twitter.com/DrNTheodore               image   \n",
       "4        http://twitter.com/bhas_dr               image   \n",
       "\n",
       "                                  author.picture.url language  \\\n",
       "0  http://pbs.twimg.com/profile_images/9029013236...       en   \n",
       "1  http://pbs.twimg.com/profile_images/8039612011...       en   \n",
       "2  http://pbs.twimg.com/profile_images/9483805470...       en   \n",
       "3  http://pbs.twimg.com/profile_images/9015211584...       en   \n",
       "4  http://pbs.twimg.com/profile_images/1059420706...       en   \n",
       "\n",
       "                  ...                 tags.0.value              links.0.url  \\\n",
       "0                 ...                          NaN  https://t.co/NZoNRlnjdz   \n",
       "1                 ...                       london                      NaN   \n",
       "2                 ...                     chordoma  https://t.co/iUuKMLybYV   \n",
       "3                 ...                          NaN                      NaN   \n",
       "4                 ...                          NaN                      NaN   \n",
       "\n",
       "     links.0.text  mediaMentions.0.id mediaMentions.0.type  \\\n",
       "0  bit.ly/2y6TfRY                 NaN                  NaN   \n",
       "1             NaN                 NaN                  NaN   \n",
       "2  bit.ly/2E6KFWK                 NaN                  NaN   \n",
       "3             NaN                 NaN                  NaN   \n",
       "4             NaN                 NaN                  NaN   \n",
       "\n",
       "  mediaMentions.0.url accountMentions.0.id  accountMentions.0.alias  \\\n",
       "0                 NaN         1.406255e+07           MDAndersonNews   \n",
       "1                 NaN         1.286881e+09           RayHoldenUrban   \n",
       "2                 NaN         4.478353e+07              ChordomaFDN   \n",
       "3                 NaN         8.976179e+17          maciejlesniakmd   \n",
       "4                 NaN         4.557773e+07              JMGardnerMD   \n",
       "\n",
       "      accountMentions.0.name               accountMentions.0.url  \n",
       "0  MD Anderson Cancer Center   http://twitter.com/MDAndersonNews  \n",
       "1                  RayHolden   http://twitter.com/RayHoldenUrban  \n",
       "2        Chordoma Foundation      http://twitter.com/ChordomaFDN  \n",
       "3         Maciej Lesniak, MD  http://twitter.com/maciejlesniakmd  \n",
       "4          Jerad Gardner, MD      http://twitter.com/JMGardnerMD  \n",
       "\n",
       "[5 rows x 44 columns]"
      ]
     },
     "execution_count": 5,
     "metadata": {},
     "output_type": "execute_result"
    }
   ],
   "source": [
    "df_raw.head()"
   ]
  },
  {
   "cell_type": "markdown",
   "metadata": {},
   "source": [
    "# Unique Authors"
   ]
  },
  {
   "cell_type": "markdown",
   "metadata": {},
   "source": [
    "<b>Question: </b>\n",
    "How many unique authors are present in the file?  \n",
    "\n",
    "<b>Answer: </b> 654\n",
    "\n",
    "Each of the author identifiers has a count of 654 except \"author.name\" which has a count of 653.  It has a lower count because a \".\" is used for \"author.name\" for two different author ids."
   ]
  },
  {
   "cell_type": "code",
   "execution_count": 6,
   "metadata": {},
   "outputs": [
    {
     "data": {
      "text/plain": [
       "654"
      ]
     },
     "execution_count": 6,
     "metadata": {},
     "output_type": "execute_result"
    }
   ],
   "source": [
    "len(set(df_raw['author.id']))"
   ]
  },
  {
   "cell_type": "code",
   "execution_count": 7,
   "metadata": {},
   "outputs": [
    {
     "data": {
      "text/plain": [
       "654"
      ]
     },
     "execution_count": 7,
     "metadata": {},
     "output_type": "execute_result"
    }
   ],
   "source": [
    "len(set(df_raw['author.url']))"
   ]
  },
  {
   "cell_type": "code",
   "execution_count": 8,
   "metadata": {},
   "outputs": [
    {
     "data": {
      "text/plain": [
       "654"
      ]
     },
     "execution_count": 8,
     "metadata": {},
     "output_type": "execute_result"
    }
   ],
   "source": [
    "len(set(df_raw['author.alias']))"
   ]
  },
  {
   "cell_type": "code",
   "execution_count": 9,
   "metadata": {},
   "outputs": [
    {
     "data": {
      "text/plain": [
       "653"
      ]
     },
     "execution_count": 9,
     "metadata": {},
     "output_type": "execute_result"
    }
   ],
   "source": [
    "len(set(df_raw['author.name']))"
   ]
  },
  {
   "cell_type": "code",
   "execution_count": 10,
   "metadata": {},
   "outputs": [
    {
     "data": {
      "text/plain": [
       "657    .\n",
       "Name: author.name, dtype: object"
      ]
     },
     "execution_count": 10,
     "metadata": {},
     "output_type": "execute_result"
    }
   ],
   "source": [
    "list_id = df_raw.drop_duplicates('author.id')['id']\n",
    "list_name = df_raw.drop_duplicates('author.name')['id']\n",
    "id_dup = list(set(list_id)-set(list_name))[0]\n",
    "df_raw.loc[df_raw['id'] == id_dup]['author.name']"
   ]
  },
  {
   "cell_type": "code",
   "execution_count": 11,
   "metadata": {},
   "outputs": [
    {
     "data": {
      "text/html": [
       "<div>\n",
       "<style scoped>\n",
       "    .dataframe tbody tr th:only-of-type {\n",
       "        vertical-align: middle;\n",
       "    }\n",
       "\n",
       "    .dataframe tbody tr th {\n",
       "        vertical-align: top;\n",
       "    }\n",
       "\n",
       "    .dataframe thead th {\n",
       "        text-align: right;\n",
       "    }\n",
       "</style>\n",
       "<table border=\"1\" class=\"dataframe\">\n",
       "  <thead>\n",
       "    <tr style=\"text-align: right;\">\n",
       "      <th></th>\n",
       "      <th>id</th>\n",
       "      <th>author.name</th>\n",
       "    </tr>\n",
       "  </thead>\n",
       "  <tbody>\n",
       "    <tr>\n",
       "      <th>545</th>\n",
       "      <td>981379871728336897</td>\n",
       "      <td>.</td>\n",
       "    </tr>\n",
       "    <tr>\n",
       "      <th>657</th>\n",
       "      <td>981185467877085184</td>\n",
       "      <td>.</td>\n",
       "    </tr>\n",
       "  </tbody>\n",
       "</table>\n",
       "</div>"
      ],
      "text/plain": [
       "                     id author.name\n",
       "545  981379871728336897           .\n",
       "657  981185467877085184           ."
      ]
     },
     "execution_count": 11,
     "metadata": {},
     "output_type": "execute_result"
    }
   ],
   "source": [
    "df_no_auth_dup = df_raw.drop_duplicates('author.id')\n",
    "df_no_auth_dup.loc[df_no_auth_dup['author.name'] == '.'][['id','author.name']]"
   ]
  },
  {
   "attachments": {},
   "cell_type": "markdown",
   "metadata": {},
   "source": [
    "# Frequent Words\n",
    "\n",
    "<b>Question: </b>What are the most frequently used words?  Tell me something about those words. Compare word usage to the top hashtags.\n",
    "\n",
    "<b>Answer: </b>\n",
    "\n",
    "Most Frequently Used Words:\n",
    "- chondrosarcoma: 466\n",
    "- cancer: 419\n",
    "- old: 383\n",
    "- years: 377\n",
    "- name: 373\n",
    "\n",
    "\n",
    "Most Frequently Used Hashtags:\n",
    "- #london: 92\n",
    "- #liverpool: 92\n",
    "- #chondrosarcoma: 80\n",
    "- #cancer: 59\n",
    "- #chordoma: 52\n",
    "\n",
    "The most frequently used words are all part of the same tweet (367 occurrences, roughly 46% of the data set):\n",
    "\n",
    ">RT @Ms_Tsetse: Her Name is Nontokozo Maphaphu. She is 19 yrs old. She has spinal cancer called \"Chondrosarcoma\"\\n\\nAl she wants is to go back…'\n",
    "\n",
    "3 (#chondrosarcoma, #cancer, and #chordoma) of the top 5 hashtags are subjects in the tweet and therefore are related to the tweet.\n",
    "\n",
    "The 2 remaining hashtags do occur often with the #chondrosarcoma hashtag.  This indicates that many of the tweets with the #london and #liverpool hashtags are also related to an aspect of the tweet above.\n"
   ]
  },
  {
   "cell_type": "code",
   "execution_count": 12,
   "metadata": {},
   "outputs": [],
   "source": [
    "regex_str = [\n",
    "    r'<[^>]+>', # HTML tags\n",
    "    r'(?:@[\\w_]+)', # @-mentions\n",
    "    r\"(?:\\#+[\\w_]+[\\w\\'_\\-]*[\\w_]+)\", # hash-tags\n",
    "    r'http[s]?://(?:[a-z]|[0-9]|[$-_@.&amp;+]|[!*\\(\\),]|(?:%[0-9a-f][0-9a-f]))+', # URLs\n",
    "    r'(?:(?:\\d+,?)+(?:\\.?\\d+)?)', # numbers\n",
    "    r\"(?:[a-z][a-z'\\-_]+[a-z])\", # words with - and '\n",
    "    r'(?:[\\w_]+)', # other words\n",
    "    r'(?:\\S)' # anything else\n",
    "]\n",
    "tokens_re = re.compile(r'('+'|'.join(regex_str)+')', re.VERBOSE | re.IGNORECASE)\n",
    "punctuation = list(string.punctuation)\n",
    "stop = stopwords.words('english') + punctuation + ['rt', 'via', '…']\n",
    " \n",
    "def tokenize(s):\n",
    "    return tokens_re.findall(s)\n",
    "\n",
    "def normalize(s):\n",
    "    norm_dict = {\n",
    "        'yrs':'years'\n",
    "    }\n",
    "    for k, v in norm_dict.items():\n",
    "        normed = s.replace(k,v)\n",
    "    return normed\n",
    "        \n",
    "def preprocess(s):\n",
    "    normed = normalize(s.lower())\n",
    "    tokens = tokenize(normed) \n",
    "    return tokens\n",
    "\n",
    "def get_counts(tweets, grams=3, stop=stop):\n",
    "    # set up counters \n",
    "    counters={}\n",
    "    counters['all'] = Counter()\n",
    "    counters['terms'] = Counter()\n",
    "    counters['ngrams'] = Counter()\n",
    "    counters['hashtags'] = Counter()\n",
    "    counters['mentions'] = Counter()\n",
    "    # get counts\n",
    "    for tweet in df_raw['body']:\n",
    "        # list with all terms\n",
    "        terms_all = [term for term in preprocess(tweet)]\n",
    "        counters['all'].update(terms_all)\n",
    "        # count terms (no hashtags, no mentions)\n",
    "        terms_only = [term for term in preprocess(tweet) \n",
    "                      if term not in stop and\n",
    "                      not term.startswith(('#', '@'))] \n",
    "        counters['terms'].update(terms_only)\n",
    "        # count ngrams\n",
    "        terms_bigram = ngrams(terms_only,grams)\n",
    "        counters['ngrams'].update(terms_bigram)\n",
    "        # count hashtags\n",
    "        terms_hash = [term for term in preprocess(tweet) \n",
    "                      if term.startswith('#')]\n",
    "        counters['hashtags'].update(terms_hash)\n",
    "        # count mentions\n",
    "        terms_mention = [term for term in preprocess(tweet) \n",
    "                      if term.startswith('@')]\n",
    "        counters['mentions'].update(terms_mention)\n",
    "    return counters\n",
    "\n",
    "def get_co_occurence(search_word, tweets):\n",
    "    count_search = Counter()\n",
    "    for tweet in tweets:\n",
    "        terms_all = [term for term in preprocess(tweet)\n",
    "                    if term not in stop]\n",
    "        if search_word.lower() in terms_all:\n",
    "            terms_all.remove(search_word.lower())\n",
    "            count_search.update(terms_all)\n",
    "    return count_search"
   ]
  },
  {
   "cell_type": "code",
   "execution_count": 13,
   "metadata": {
    "collapsed": true
   },
   "outputs": [],
   "source": [
    "term_counters = get_counts(df_raw['body'])"
   ]
  },
  {
   "cell_type": "code",
   "execution_count": 14,
   "metadata": {},
   "outputs": [
    {
     "name": "stdout",
     "output_type": "stream",
     "text": [
      "[   ('chondrosarcoma', 466),\n",
      "    ('cancer', 419),\n",
      "    ('old', 383),\n",
      "    ('years', 377),\n",
      "    ('name', 373)]\n"
     ]
    }
   ],
   "source": [
    "pp = pprint.PrettyPrinter(indent=4)\n",
    "pp.pprint(term_counters['terms'].most_common(5))"
   ]
  },
  {
   "cell_type": "code",
   "execution_count": 15,
   "metadata": {},
   "outputs": [
    {
     "name": "stdout",
     "output_type": "stream",
     "text": [
      "[   ('#london', 92),\n",
      "    ('#liverpool', 92),\n",
      "    ('#chondrosarcoma', 80),\n",
      "    ('#cancer', 59),\n",
      "    ('#chordoma', 52)]\n"
     ]
    }
   ],
   "source": [
    "pp.pprint(term_counters['hashtags'].most_common(5))"
   ]
  },
  {
   "cell_type": "code",
   "execution_count": 16,
   "metadata": {},
   "outputs": [
    {
     "name": "stdout",
     "output_type": "stream",
     "text": [
      "[   (('name', 'nontokozo', 'maphaphu'), 367),\n",
      "    (('nontokozo', 'maphaphu', '19'), 367),\n",
      "    (('maphaphu', '19', 'years'), 367),\n",
      "    (('19', 'years', 'old'), 367),\n",
      "    (('years', 'old', 'spinal'), 367)]\n"
     ]
    }
   ],
   "source": [
    "pp.pprint(term_counters['ngrams'].most_common(5))"
   ]
  },
  {
   "cell_type": "code",
   "execution_count": 17,
   "metadata": {},
   "outputs": [
    {
     "name": "stdout",
     "output_type": "stream",
     "text": [
      "[   (   (   'name',\n",
      "            'nontokozo',\n",
      "            'maphaphu',\n",
      "            '19',\n",
      "            'years',\n",
      "            'old',\n",
      "            'spinal',\n",
      "            'cancer'),\n",
      "        367),\n",
      "    (   (   'nontokozo',\n",
      "            'maphaphu',\n",
      "            '19',\n",
      "            'years',\n",
      "            'old',\n",
      "            'spinal',\n",
      "            'cancer',\n",
      "            'called'),\n",
      "        367)]\n"
     ]
    }
   ],
   "source": [
    "term_counters_8gram = get_counts(df_raw['body'], 8)\n",
    "pp.pprint(term_counters_8gram['ngrams'].most_common(2))"
   ]
  },
  {
   "cell_type": "code",
   "execution_count": 18,
   "metadata": {},
   "outputs": [
    {
     "data": {
      "text/plain": [
       "367"
      ]
     },
     "execution_count": 18,
     "metadata": {},
     "output_type": "execute_result"
    }
   ],
   "source": [
    "len(df_raw.loc[df_raw['body'].str.contains('Nontokozo')]['body'])"
   ]
  },
  {
   "cell_type": "code",
   "execution_count": 19,
   "metadata": {},
   "outputs": [
    {
     "data": {
      "text/plain": [
       "{'RT @Ms_Tsetse: Her Name is Nontokozo Maphaphu. She is 19 yrs old. She has spinal cancer called \"Chondrosarcoma\"\\n\\nAl she wants is to go back…'}"
      ]
     },
     "execution_count": 19,
     "metadata": {},
     "output_type": "execute_result"
    }
   ],
   "source": [
    "set(df_raw.loc[df_raw['body'].str.contains('Nontokozo')]['body'])"
   ]
  },
  {
   "cell_type": "code",
   "execution_count": 20,
   "metadata": {},
   "outputs": [
    {
     "data": {
      "text/plain": [
       "[('days', 96),\n",
       " ('support', 90),\n",
       " ('#liverpool', 89),\n",
       " ('walking', 82),\n",
       " ('april', 77),\n",
       " ('225', 72),\n",
       " ('wife', 68),\n",
       " ('please', 55),\n",
       " ('#chondrosarcoma', 52),\n",
       " ('daughter', 50)]"
      ]
     },
     "execution_count": 20,
     "metadata": {},
     "output_type": "execute_result"
    }
   ],
   "source": [
    "co_occ_london = get_co_occurence('#London',df_raw['body'])\n",
    "co_occ_london.most_common(10)"
   ]
  },
  {
   "cell_type": "markdown",
   "metadata": {},
   "source": [
    "# Top Mentions\n",
    "\n",
    "<b>Question: </b>\n",
    "What are the top accounts gettings @mentioned? \n",
    "\n",
    "<b>Answers: </b>\n",
    "- @ms_tsetse: 367\n",
    "- @chordomafdn: 42\n",
    "- @rayholdenurban: 36\n",
    "- @jmgardnermd: 19\n",
    "- @histiocytosisx: 18"
   ]
  },
  {
   "cell_type": "code",
   "execution_count": 21,
   "metadata": {},
   "outputs": [
    {
     "name": "stdout",
     "output_type": "stream",
     "text": [
      "[   ('@ms_tsetse', 367),\n",
      "    ('@chordomafdn', 42),\n",
      "    ('@rayholdenurban', 36),\n",
      "    ('@jmgardnermd', 19),\n",
      "    ('@histiocytosisx', 18)]\n"
     ]
    }
   ],
   "source": [
    "pp.pprint(term_counters['mentions'].most_common(5))"
   ]
  },
  {
   "attachments": {},
   "cell_type": "markdown",
   "metadata": {},
   "source": [
    "# Graphs\n",
    "<b>Question: </b>\n",
    "Show me an interesting histogram or chart from this data. \n",
    "\n",
    "<b>Answer: </b>\n",
    "A histogram of tweet frequency by date shows a jump in tweets at the beginning of April 2018.  There is also a jump in \"chondrosarcoma\" in the body of tweets at the same time.  \"@ms_tsetse\" mentions increases at the same time as well but for a shorter period of time.\n"
   ]
  },
  {
   "cell_type": "code",
   "execution_count": 22,
   "metadata": {
    "collapsed": true
   },
   "outputs": [],
   "source": [
    "# create a list of date objects from 'createdAt'\n",
    "def get_sorted_dates(tweets_created):\n",
    "    dates = []\n",
    "    for t in tweets_created:\n",
    "        date_str = t.split('T')[0]\n",
    "        year, month, day = [int(i) for i in date_str.split('-')]\n",
    "        d = date(year, month, day)\n",
    "        dates.append(d)\n",
    "    dates.sort()\n",
    "    min_date = dates[0]\n",
    "    max_date = dates[-1]\n",
    "    length = (max_date-min_date).days+1\n",
    "    return dates"
   ]
  },
  {
   "cell_type": "code",
   "execution_count": 23,
   "metadata": {},
   "outputs": [
    {
     "data": {
      "image/png": "[encoded data removed]",
      "text/plain": [
       "<matplotlib.figure.Figure at 0x1a139d83c8>"
      ]
     },
     "metadata": {},
     "output_type": "display_data"
    }
   ],
   "source": [
    "dates_all = get_sorted_dates(df_raw['createdAt'])\n",
    "pyplot.hist(dates_all, 30, alpha=0.5, label='All Tweets')\n",
    "pyplot.legend(loc='upper left')\n",
    "pyplot.xticks(rotation = 70)\n",
    "pyplot.title('Tweet Frequency for All Tweets')\n",
    "pyplot.ylabel('Tweet Count')\n",
    "pyplot.xlabel('Tweet Create Date ')\n",
    "pyplot.show()"
   ]
  },
  {
   "cell_type": "code",
   "execution_count": 24,
   "metadata": {},
   "outputs": [
    {
     "data": {
      "image/png": "[encoded data removed]",
      "text/plain": [
       "<matplotlib.figure.Figure at 0x1a13aac908>"
      ]
     },
     "metadata": {},
     "output_type": "display_data"
    }
   ],
   "source": [
    "dates_chondro_raw = df_raw.loc[df_raw['body'].str.contains('chondrosarcoma',\n",
    "                                            flags=re.IGNORECASE,\n",
    "                                            regex=True)]['createdAt']\n",
    "dates_chondro = get_sorted_dates(dates_chondro_raw)\n",
    "x = dates_all\n",
    "y = dates_chondro\n",
    "bins = 30\n",
    "pyplot.hist(x, bins, alpha=0.5, label='All Tweets')\n",
    "pyplot.hist(y, bins, alpha=0.5, label='Chondrosarcoma')\n",
    "pyplot.legend(loc='upper left')\n",
    "pyplot.xticks(rotation = 70)\n",
    "pyplot.title('Tweet Frequency for All Tweets vs Chrondrosarcoma in Tweet')\n",
    "pyplot.ylabel('Tweet Count')\n",
    "pyplot.xlabel('Tweet Create Date ')\n",
    "pyplot.show()"
   ]
  },
  {
   "cell_type": "code",
   "execution_count": 26,
   "metadata": {},
   "outputs": [
    {
     "data": {
      "image/png": "[encoded data removed]",
      "text/plain": [
       "<matplotlib.figure.Figure at 0x1a139d1438>"
      ]
     },
     "metadata": {},
     "output_type": "display_data"
    }
   ],
   "source": [
    "dates_tsetse_raw = df_raw.loc[df_raw['body'].str.contains('@ms_tsetse',\n",
    "                                            flags=re.IGNORECASE,\n",
    "                                            regex=True)]['createdAt']\n",
    "dates_tsetse = get_sorted_dates(dates_tsetse_raw)\n",
    "x = dates_all\n",
    "y = dates_chondro\n",
    "z = dates_tsetse\n",
    "bins = 30\n",
    "pyplot.hist(x, bins, alpha=0.5, label='All Tweets')\n",
    "pyplot.hist(y, bins, alpha=0.5, label='Chondrosarcoma')\n",
    "pyplot.hist(z, bins, alpha=0.5, label='@ms_tsetse')\n",
    "pyplot.legend(loc='upper left')\n",
    "pyplot.xticks(rotation = 70)\n",
    "pyplot.title('Tweet Frequency: All Tweets, Chrondrosarcoma, @ms_tsetse')\n",
    "pyplot.ylabel('Tweet Count')\n",
    "pyplot.xlabel('Tweet Create Date ')\n",
    "pyplot.show()"
   ]
  },
  {
   "cell_type": "markdown",
   "metadata": {},
   "source": [
    "# About"
   ]
  },
  {
   "cell_type": "markdown",
   "metadata": {},
   "source": [
    "<b>Question: </b>\n",
    "What do you think this data set is about?\n",
    "    \n",
    "<b>Answer: </b>\n",
    "This data set is about a request for charity that went viral near the beginning of April 2018.\n",
    "    "
   ]
  }
 ],
 "metadata": {
  "kernelspec": {
   "display_name": "Python 3",
   "language": "python",
   "name": "python3"
  },
  "language_info": {
   "codemirror_mode": {
    "name": "ipython",
    "version": 3
   },
   "file_extension": ".py",
   "mimetype": "text/x-python",
   "name": "python",
   "nbconvert_exporter": "python",
   "pygments_lexer": "ipython3",
   "version": "3.6.3"
  },
  "toc": {
   "base_numbering": 1,
   "nav_menu": {},
   "number_sections": true,
   "sideBar": true,
   "skip_h1_title": false,
   "title_cell": "Table of Contents",
   "title_sidebar": "Contents",
   "toc_cell": false,
   "toc_position": {},
   "toc_section_display": true,
   "toc_window_display": false
  }
 },
 "nbformat": 4,
 "nbformat_minor": 2
}
